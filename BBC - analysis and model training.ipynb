{
 "cells": [
  {
   "cell_type": "markdown",
   "metadata": {},
   "source": [
    "# GITHUB REPO"
   ]
  },
  {
   "cell_type": "markdown",
   "metadata": {},
   "source": [
    "https://github.com/ArturTan/unsupervised-algorithms-in-machine-learning-week-4"
   ]
  },
  {
   "cell_type": "markdown",
   "metadata": {},
   "source": [
    "# Kaggle imports"
   ]
  },
  {
   "cell_type": "code",
   "execution_count": 1,
   "metadata": {
    "_cell_guid": "b1076dfc-b9ad-4769-8c92-a6c4dae69d19",
    "_uuid": "8f2839f25d086af736a60e9eeb907d3b93b6e0e5",
    "execution": {
     "iopub.execute_input": "2024-06-23T21:13:02.989761Z",
     "iopub.status.busy": "2024-06-23T21:13:02.989238Z",
     "iopub.status.idle": "2024-06-23T21:13:03.357291Z",
     "shell.execute_reply": "2024-06-23T21:13:03.356498Z",
     "shell.execute_reply.started": "2024-06-23T21:13:02.989733Z"
    }
   },
   "outputs": [
    {
     "name": "stdout",
     "output_type": "stream",
     "text": [
      "/kaggle/input/learn-ai-bbc/BBC News Train.csv\n",
      "/kaggle/input/learn-ai-bbc/BBC News Sample Solution.csv\n",
      "/kaggle/input/learn-ai-bbc/BBC News Test.csv\n",
      "/kaggle/input/stopwords/stopwords-en.txt\n"
     ]
    }
   ],
   "source": [
    "# This Python 3 environment comes with many helpful analytics libraries installed\n",
    "# It is defined by the kaggle/python Docker image: https://github.com/kaggle/docker-python\n",
    "# For example, here's several helpful packages to load\n",
    "\n",
    "import numpy as np # linear algebra\n",
    "import pandas as pd # data processing, CSV file I/O (e.g. pd.read_csv)\n",
    "\n",
    "# Input data files are available in the read-only \"../input/\" directory\n",
    "# For example, running this (by clicking run or pressing Shift+Enter) will list all files under the input directory\n",
    "\n",
    "import os\n",
    "for dirname, _, filenames in os.walk('/kaggle/input'):\n",
    "    for filename in filenames:\n",
    "        print(os.path.join(dirname, filename))\n",
    "\n",
    "# You can write up to 20GB to the current directory (/kaggle/working/) that gets preserved as output when you create a version using \"Save & Run All\" \n",
    "# You can also write temporary files to /kaggle/temp/, but they won't be saved outside of the current session"
   ]
  },
  {
   "cell_type": "markdown",
   "metadata": {},
   "source": [
    "# Imports"
   ]
  },
  {
   "cell_type": "code",
   "execution_count": 2,
   "metadata": {
    "execution": {
     "iopub.execute_input": "2024-06-23T21:13:03.358595Z",
     "iopub.status.busy": "2024-06-23T21:13:03.358254Z",
     "iopub.status.idle": "2024-06-23T21:13:04.450980Z",
     "shell.execute_reply": "2024-06-23T21:13:04.450247Z",
     "shell.execute_reply.started": "2024-06-23T21:13:03.358570Z"
    }
   },
   "outputs": [
    {
     "name": "stderr",
     "output_type": "stream",
     "text": [
      "/tmp/ipykernel_4341/481458356.py:5: TqdmExperimentalWarning: Using `tqdm.autonotebook.tqdm` in notebook mode. Use `tqdm.tqdm` instead to force console mode (e.g. in jupyter console)\n",
      "  from tqdm.autonotebook import tqdm, trange\n"
     ]
    }
   ],
   "source": [
    "from dataclasses import dataclass\n",
    "from sklearn.feature_extraction.text import CountVectorizer\n",
    "import matplotlib.pyplot as plt\n",
    "import seaborn as sns\n",
    "from tqdm.autonotebook import tqdm, trange\n",
    "import nltk\n",
    "from nltk.corpus import stopwords\n",
    "import string \n",
    "import re\n",
    "from sklearn.feature_extraction.text import CountVectorizer, TfidfVectorizer\n",
    "from sklearn.decomposition import NMF\n",
    "import itertools\n",
    "from scipy.optimize import linear_sum_assignment\n",
    "from sklearn.metrics import accuracy_score\n",
    "from sklearn.preprocessing import LabelEncoder\n",
    "from sklearn.model_selection import train_test_split, StratifiedKFold, GridSearchCV\n",
    "import nltk\n",
    "import sys\n",
    "from sklearn.metrics import accuracy_score, f1_score, confusion_matrix\n",
    "\n",
    "from matplotlib import pyplot\n",
    "from sklearn.model_selection import cross_val_score\n",
    "from sklearn.linear_model import LogisticRegression\n",
    "from sklearn.manifold import TSNE\n",
    "import numpy as np\n",
    "import plotly.express as px"
   ]
  },
  {
   "cell_type": "markdown",
   "metadata": {
    "execution": {
     "iopub.execute_input": "2024-06-23T19:17:52.508062Z",
     "iopub.status.busy": "2024-06-23T19:17:52.506897Z",
     "iopub.status.idle": "2024-06-23T19:17:52.512103Z",
     "shell.execute_reply": "2024-06-23T19:17:52.511227Z",
     "shell.execute_reply.started": "2024-06-23T19:17:52.508019Z"
    }
   },
   "source": [
    "## EDA"
   ]
  },
  {
   "cell_type": "code",
   "execution_count": 3,
   "metadata": {
    "execution": {
     "iopub.execute_input": "2024-06-23T21:13:04.452454Z",
     "iopub.status.busy": "2024-06-23T21:13:04.452003Z",
     "iopub.status.idle": "2024-06-23T21:13:04.500785Z",
     "shell.execute_reply": "2024-06-23T21:13:04.500120Z",
     "shell.execute_reply.started": "2024-06-23T21:13:04.452428Z"
    }
   },
   "outputs": [],
   "source": [
    "data = pd.read_csv(\"/kaggle/input/learn-ai-bbc/BBC News Train.csv\")"
   ]
  },
  {
   "cell_type": "markdown",
   "metadata": {},
   "source": [
    "Let's examine the data by checking the length of the texts."
   ]
  },
  {
   "cell_type": "code",
   "execution_count": 4,
   "metadata": {
    "execution": {
     "iopub.execute_input": "2024-06-23T21:13:04.503139Z",
     "iopub.status.busy": "2024-06-23T21:13:04.502880Z",
     "iopub.status.idle": "2024-06-23T21:13:04.509599Z",
     "shell.execute_reply": "2024-06-23T21:13:04.508619Z",
     "shell.execute_reply.started": "2024-06-23T21:13:04.503116Z"
    }
   },
   "outputs": [],
   "source": [
    "data['length'] = data['Text'].str.len()"
   ]
  },
  {
   "cell_type": "code",
   "execution_count": 5,
   "metadata": {
    "execution": {
     "iopub.execute_input": "2024-06-23T21:13:04.511958Z",
     "iopub.status.busy": "2024-06-23T21:13:04.511021Z",
     "iopub.status.idle": "2024-06-23T21:13:04.790264Z",
     "shell.execute_reply": "2024-06-23T21:13:04.789427Z",
     "shell.execute_reply.started": "2024-06-23T21:13:04.511932Z"
    }
   },
   "outputs": [
    {
     "data": {
      "text/plain": [
       "<Axes: >"
      ]
     },
     "execution_count": 5,
     "metadata": {},
     "output_type": "execute_result"
    },
    {
     "data": {
      "image/png": "[encoded data removed]",
      "text/plain": [
       "<Figure size 640x480 with 1 Axes>"
      ]
     },
     "metadata": {},
     "output_type": "display_data"
    }
   ],
   "source": [
    "data['length'].hist()"
   ]
  },
  {
   "cell_type": "markdown",
   "metadata": {},
   "source": [
    "Some \"outliers\" have more than 5,000 words. Let's remove them, as they may contaminate the results and add too many dimensions to account for."
   ]
  },
  {
   "cell_type": "code",
   "execution_count": 6,
   "metadata": {
    "execution": {
     "iopub.execute_input": "2024-06-23T21:13:04.791785Z",
     "iopub.status.busy": "2024-06-23T21:13:04.791443Z",
     "iopub.status.idle": "2024-06-23T21:13:04.798094Z",
     "shell.execute_reply": "2024-06-23T21:13:04.797245Z",
     "shell.execute_reply.started": "2024-06-23T21:13:04.791754Z"
    }
   },
   "outputs": [],
   "source": [
    "# remove outliers\n",
    "data = data[np.logical_and(data['length'] < 5000, data['length'] > 0)]"
   ]
  },
  {
   "cell_type": "code",
   "execution_count": 7,
   "metadata": {
    "execution": {
     "iopub.execute_input": "2024-06-23T21:13:04.799646Z",
     "iopub.status.busy": "2024-06-23T21:13:04.799370Z",
     "iopub.status.idle": "2024-06-23T21:13:04.816591Z",
     "shell.execute_reply": "2024-06-23T21:13:04.815760Z",
     "shell.execute_reply.started": "2024-06-23T21:13:04.799623Z"
    }
   },
   "outputs": [
    {
     "data": {
      "text/html": [
       "<div>\n",
       "<style scoped>\n",
       "    .dataframe tbody tr th:only-of-type {\n",
       "        vertical-align: middle;\n",
       "    }\n",
       "\n",
       "    .dataframe tbody tr th {\n",
       "        vertical-align: top;\n",
       "    }\n",
       "\n",
       "    .dataframe thead th {\n",
       "        text-align: right;\n",
       "    }\n",
       "</style>\n",
       "<table border=\"1\" class=\"dataframe\">\n",
       "  <thead>\n",
       "    <tr style=\"text-align: right;\">\n",
       "      <th></th>\n",
       "      <th>ArticleId</th>\n",
       "      <th>Text</th>\n",
       "      <th>Category</th>\n",
       "      <th>length</th>\n",
       "    </tr>\n",
       "  </thead>\n",
       "  <tbody>\n",
       "    <tr>\n",
       "      <th>0</th>\n",
       "      <td>1833</td>\n",
       "      <td>worldcom ex-boss launches defence lawyers defe...</td>\n",
       "      <td>business</td>\n",
       "      <td>1866</td>\n",
       "    </tr>\n",
       "    <tr>\n",
       "      <th>1</th>\n",
       "      <td>154</td>\n",
       "      <td>german business confidence slides german busin...</td>\n",
       "      <td>business</td>\n",
       "      <td>2016</td>\n",
       "    </tr>\n",
       "    <tr>\n",
       "      <th>2</th>\n",
       "      <td>1101</td>\n",
       "      <td>bbc poll indicates economic gloom citizens in ...</td>\n",
       "      <td>business</td>\n",
       "      <td>3104</td>\n",
       "    </tr>\n",
       "    <tr>\n",
       "      <th>3</th>\n",
       "      <td>1976</td>\n",
       "      <td>lifestyle  governs mobile choice  faster  bett...</td>\n",
       "      <td>tech</td>\n",
       "      <td>3618</td>\n",
       "    </tr>\n",
       "    <tr>\n",
       "      <th>4</th>\n",
       "      <td>917</td>\n",
       "      <td>enron bosses in $168m payout eighteen former e...</td>\n",
       "      <td>business</td>\n",
       "      <td>2190</td>\n",
       "    </tr>\n",
       "    <tr>\n",
       "      <th>...</th>\n",
       "      <td>...</td>\n",
       "      <td>...</td>\n",
       "      <td>...</td>\n",
       "      <td>...</td>\n",
       "    </tr>\n",
       "    <tr>\n",
       "      <th>1485</th>\n",
       "      <td>857</td>\n",
       "      <td>double eviction from big brother model caprice...</td>\n",
       "      <td>entertainment</td>\n",
       "      <td>1266</td>\n",
       "    </tr>\n",
       "    <tr>\n",
       "      <th>1486</th>\n",
       "      <td>325</td>\n",
       "      <td>dj double act revamp chart show dj duo jk and ...</td>\n",
       "      <td>entertainment</td>\n",
       "      <td>3111</td>\n",
       "    </tr>\n",
       "    <tr>\n",
       "      <th>1487</th>\n",
       "      <td>1590</td>\n",
       "      <td>weak dollar hits reuters revenues at media gro...</td>\n",
       "      <td>business</td>\n",
       "      <td>1370</td>\n",
       "    </tr>\n",
       "    <tr>\n",
       "      <th>1488</th>\n",
       "      <td>1587</td>\n",
       "      <td>apple ipod family expands market apple has exp...</td>\n",
       "      <td>tech</td>\n",
       "      <td>3242</td>\n",
       "    </tr>\n",
       "    <tr>\n",
       "      <th>1489</th>\n",
       "      <td>538</td>\n",
       "      <td>santy worm makes unwelcome visit thousands of ...</td>\n",
       "      <td>tech</td>\n",
       "      <td>1723</td>\n",
       "    </tr>\n",
       "  </tbody>\n",
       "</table>\n",
       "<p>1463 rows × 4 columns</p>\n",
       "</div>"
      ],
      "text/plain": [
       "      ArticleId                                               Text  \\\n",
       "0          1833  worldcom ex-boss launches defence lawyers defe...   \n",
       "1           154  german business confidence slides german busin...   \n",
       "2          1101  bbc poll indicates economic gloom citizens in ...   \n",
       "3          1976  lifestyle  governs mobile choice  faster  bett...   \n",
       "4           917  enron bosses in $168m payout eighteen former e...   \n",
       "...         ...                                                ...   \n",
       "1485        857  double eviction from big brother model caprice...   \n",
       "1486        325  dj double act revamp chart show dj duo jk and ...   \n",
       "1487       1590  weak dollar hits reuters revenues at media gro...   \n",
       "1488       1587  apple ipod family expands market apple has exp...   \n",
       "1489        538  santy worm makes unwelcome visit thousands of ...   \n",
       "\n",
       "           Category  length  \n",
       "0          business    1866  \n",
       "1          business    2016  \n",
       "2          business    3104  \n",
       "3              tech    3618  \n",
       "4          business    2190  \n",
       "...             ...     ...  \n",
       "1485  entertainment    1266  \n",
       "1486  entertainment    3111  \n",
       "1487       business    1370  \n",
       "1488           tech    3242  \n",
       "1489           tech    1723  \n",
       "\n",
       "[1463 rows x 4 columns]"
      ]
     },
     "execution_count": 7,
     "metadata": {},
     "output_type": "execute_result"
    }
   ],
   "source": [
    "data"
   ]
  },
  {
   "cell_type": "markdown",
   "metadata": {},
   "source": [
    "There are now 1,490 records and four columns. The most interesting ones are the text and category columns. Let's check how many items are in each category."
   ]
  },
  {
   "cell_type": "code",
   "execution_count": 8,
   "metadata": {
    "execution": {
     "iopub.execute_input": "2024-06-23T21:13:04.818227Z",
     "iopub.status.busy": "2024-06-23T21:13:04.817692Z",
     "iopub.status.idle": "2024-06-23T21:13:05.143163Z",
     "shell.execute_reply": "2024-06-23T21:13:05.142315Z",
     "shell.execute_reply.started": "2024-06-23T21:13:04.818196Z"
    }
   },
   "outputs": [
    {
     "data": {
      "text/plain": [
       "<Axes: xlabel='Category'>"
      ]
     },
     "execution_count": 8,
     "metadata": {},
     "output_type": "execute_result"
    },
    {
     "data": {
      "image/png": "[encoded data removed]",
      "text/plain": [
       "<Figure size 640x480 with 1 Axes>"
      ]
     },
     "metadata": {},
     "output_type": "display_data"
    }
   ],
   "source": [
    "data.Category.value_counts().sort_values().plot(kind = 'bar')"
   ]
  },
  {
   "cell_type": "markdown",
   "metadata": {},
   "source": [
    "The data is distributed uniformly, meaning that oversampling will not be needed."
   ]
  },
  {
   "cell_type": "markdown",
   "metadata": {},
   "source": [
    "One of the interesting features to consider is that each topic should contain slightly different words."
   ]
  },
  {
   "cell_type": "code",
   "execution_count": 9,
   "metadata": {
    "execution": {
     "iopub.execute_input": "2024-06-23T21:13:05.144791Z",
     "iopub.status.busy": "2024-06-23T21:13:05.144444Z",
     "iopub.status.idle": "2024-06-23T21:13:05.150871Z",
     "shell.execute_reply": "2024-06-23T21:13:05.149950Z",
     "shell.execute_reply.started": "2024-06-23T21:13:05.144759Z"
    }
   },
   "outputs": [],
   "source": [
    "@dataclass\n",
    "class VectorizerData:\n",
    "    ngram: int\n",
    "    category: str\n",
    "    vectorizer: CountVectorizer\n",
    "    sum_words: np.array\n",
    "    words_freq: np.array"
   ]
  },
  {
   "cell_type": "code",
   "execution_count": 10,
   "metadata": {
    "execution": {
     "iopub.execute_input": "2024-06-23T21:13:05.152445Z",
     "iopub.status.busy": "2024-06-23T21:13:05.152052Z",
     "iopub.status.idle": "2024-06-23T21:13:05.161937Z",
     "shell.execute_reply": "2024-06-23T21:13:05.161181Z",
     "shell.execute_reply.started": "2024-06-23T21:13:05.152396Z"
    }
   },
   "outputs": [],
   "source": [
    "with open(\"/kaggle/input/stopwords/stopwords-en.txt\") as f:\n",
    "    stop_words = f.read().splitlines()\n",
    "\n",
    "train_data = data\n",
    "    \n",
    "def get_top_ngram(category=None, n=None):\n",
    "    # https://neptune.ai/blog/exploratory-data-analysis-natural-language-processing-tools\n",
    "    vectorizer = CountVectorizer(ngram_range=(n, n), stop_words=stop_words)\n",
    "    if category:\n",
    "        data = train_data[train_data.Category == category]\n",
    "    else:\n",
    "        data = train_data\n",
    "    bag_of_words = vectorizer.fit_transform(data['Text'])\n",
    "    sum_words = bag_of_words.sum(axis=0) \n",
    "    words_freq = [(word, sum_words[0, idx])\n",
    "                  for word, idx in vectorizer.vocabulary_.items()]\n",
    "    words_freq = sorted(words_freq, key = lambda x: x[1], reverse=True)\n",
    "    return VectorizerData(ngram = n, category=category, vectorizer=vectorizer, sum_words=sum_words, words_freq=words_freq)"
   ]
  },
  {
   "cell_type": "code",
   "execution_count": 11,
   "metadata": {
    "execution": {
     "iopub.execute_input": "2024-06-23T21:13:05.163625Z",
     "iopub.status.busy": "2024-06-23T21:13:05.163027Z",
     "iopub.status.idle": "2024-06-23T21:13:07.599420Z",
     "shell.execute_reply": "2024-06-23T21:13:07.598453Z",
     "shell.execute_reply.started": "2024-06-23T21:13:05.163595Z"
    }
   },
   "outputs": [
    {
     "name": "stdout",
     "output_type": "stream",
     "text": [
      "business\n"
     ]
    },
    {
     "name": "stderr",
     "output_type": "stream",
     "text": [
      "/opt/conda/lib/python3.10/site-packages/sklearn/feature_extraction/text.py:409: UserWarning: Your stop_words may be inconsistent with your preprocessing. Tokenizing the stop words generated tokens ['herse', 'himse', 'itse', 'mon', 'myse', 'positivea'] not in stop_words.\n",
      "  warnings.warn(\n",
      "/opt/conda/lib/python3.10/site-packages/seaborn/_oldcore.py:1765: FutureWarning: unique with argument that is not not a Series, Index, ExtensionArray, or np.ndarray is deprecated and will raise in a future version.\n",
      "  order = pd.unique(vector)\n"
     ]
    },
    {
     "data": {
      "image/png": "[encoded data removed]",
      "text/plain": [
       "<Figure size 640x480 with 1 Axes>"
      ]
     },
     "metadata": {},
     "output_type": "display_data"
    },
    {
     "name": "stdout",
     "output_type": "stream",
     "text": [
      "tech\n"
     ]
    },
    {
     "name": "stderr",
     "output_type": "stream",
     "text": [
      "/opt/conda/lib/python3.10/site-packages/sklearn/feature_extraction/text.py:409: UserWarning: Your stop_words may be inconsistent with your preprocessing. Tokenizing the stop words generated tokens ['herse', 'himse', 'itse', 'mon', 'myse', 'positivea'] not in stop_words.\n",
      "  warnings.warn(\n",
      "/opt/conda/lib/python3.10/site-packages/seaborn/_oldcore.py:1765: FutureWarning: unique with argument that is not not a Series, Index, ExtensionArray, or np.ndarray is deprecated and will raise in a future version.\n",
      "  order = pd.unique(vector)\n"
     ]
    },
    {
     "data": {
      "image/png": "[encoded data removed]",
      "text/plain": [
       "<Figure size 640x480 with 1 Axes>"
      ]
     },
     "metadata": {},
     "output_type": "display_data"
    },
    {
     "name": "stdout",
     "output_type": "stream",
     "text": [
      "politics\n"
     ]
    },
    {
     "name": "stderr",
     "output_type": "stream",
     "text": [
      "/opt/conda/lib/python3.10/site-packages/sklearn/feature_extraction/text.py:409: UserWarning: Your stop_words may be inconsistent with your preprocessing. Tokenizing the stop words generated tokens ['herse', 'himse', 'itse', 'mon', 'myse', 'positivea'] not in stop_words.\n",
      "  warnings.warn(\n",
      "/opt/conda/lib/python3.10/site-packages/seaborn/_oldcore.py:1765: FutureWarning: unique with argument that is not not a Series, Index, ExtensionArray, or np.ndarray is deprecated and will raise in a future version.\n",
      "  order = pd.unique(vector)\n"
     ]
    },
    {
     "data": {
      "image/png": "[encoded data removed]",
      "text/plain": [
       "<Figure size 640x480 with 1 Axes>"
      ]
     },
     "metadata": {},
     "output_type": "display_data"
    },
    {
     "name": "stdout",
     "output_type": "stream",
     "text": [
      "sport\n"
     ]
    },
    {
     "name": "stderr",
     "output_type": "stream",
     "text": [
      "/opt/conda/lib/python3.10/site-packages/sklearn/feature_extraction/text.py:409: UserWarning: Your stop_words may be inconsistent with your preprocessing. Tokenizing the stop words generated tokens ['herse', 'himse', 'itse', 'mon', 'myse', 'positivea'] not in stop_words.\n",
      "  warnings.warn(\n",
      "/opt/conda/lib/python3.10/site-packages/seaborn/_oldcore.py:1765: FutureWarning: unique with argument that is not not a Series, Index, ExtensionArray, or np.ndarray is deprecated and will raise in a future version.\n",
      "  order = pd.unique(vector)\n"
     ]
    },
    {
     "data": {
      "image/png": "[encoded data removed]",
      "text/plain": [
       "<Figure size 640x480 with 1 Axes>"
      ]
     },
     "metadata": {},
     "output_type": "display_data"
    },
    {
     "name": "stdout",
     "output_type": "stream",
     "text": [
      "entertainment\n"
     ]
    },
    {
     "name": "stderr",
     "output_type": "stream",
     "text": [
      "/opt/conda/lib/python3.10/site-packages/sklearn/feature_extraction/text.py:409: UserWarning: Your stop_words may be inconsistent with your preprocessing. Tokenizing the stop words generated tokens ['herse', 'himse', 'itse', 'mon', 'myse', 'positivea'] not in stop_words.\n",
      "  warnings.warn(\n",
      "/opt/conda/lib/python3.10/site-packages/seaborn/_oldcore.py:1765: FutureWarning: unique with argument that is not not a Series, Index, ExtensionArray, or np.ndarray is deprecated and will raise in a future version.\n",
      "  order = pd.unique(vector)\n"
     ]
    },
    {
     "data": {
      "image/png": "[encoded data removed]",
      "text/plain": [
       "<Figure size 640x480 with 1 Axes>"
      ]
     },
     "metadata": {},
     "output_type": "display_data"
    }
   ],
   "source": [
    "for category in data.Category.unique():\n",
    "    print(category)\n",
    "    ngram_data = get_top_ngram(category, 1)\n",
    "    x, y = map(list, zip(*ngram_data.words_freq[:20]))\n",
    "    \n",
    "    plt.figure()\n",
    "    sns.barplot(x=y, y=x)\n",
    "    plt.title(f\"Top 20 Unigrams for {category}\") \n",
    "    plt.xlabel('Frequency')\n",
    "    plt.ylabel('Unigram')\n",
    "    plt.show()"
   ]
  },
  {
   "cell_type": "markdown",
   "metadata": {},
   "source": [
    "There is nothing unexpected in these diagrams; it appears that all the topics differ from each other based on the most popular words."
   ]
  },
  {
   "cell_type": "markdown",
   "metadata": {
    "execution": {
     "iopub.execute_input": "2024-06-23T19:43:18.874588Z",
     "iopub.status.busy": "2024-06-23T19:43:18.874211Z",
     "iopub.status.idle": "2024-06-23T19:43:18.878345Z",
     "shell.execute_reply": "2024-06-23T19:43:18.877497Z",
     "shell.execute_reply.started": "2024-06-23T19:43:18.874560Z"
    }
   },
   "source": [
    "## Preprocessing"
   ]
  },
  {
   "cell_type": "markdown",
   "metadata": {},
   "source": [
    "The goal is to prepare the data for further training\n",
    "\n",
    "First, we download a set of common English stopwords using the `nltk` library and combines these with standard punctuation symbols to create a comprehensive list of unwanted tokens (referred to as `stop_words`). Next, the code initializes a `CountVectorizer` using this updated list of stop words to transform the text data into a matrix of token counts. However, only those words with a frequency greater than one are retained. \n",
    "\n",
    "The script then separates the frequent and infrequent words into two lists: `keep_words` for words with a frequency higher than one and `new_stop_words` for less frequent words. Additionally, any words consisting solely of digits are removed from `keep_words`. \n",
    "\n",
    "This comprehensive preprocessing step ensures that the resultant text data is cleaner, focusing on the most meaningful and frequently occurring words while removing noise from the dataset, thereby improving the performance of subsequent text analysis or machine learning tasks. "
   ]
  },
  {
   "cell_type": "code",
   "execution_count": 12,
   "metadata": {
    "execution": {
     "iopub.execute_input": "2024-06-23T21:13:07.601416Z",
     "iopub.status.busy": "2024-06-23T21:13:07.600790Z",
     "iopub.status.idle": "2024-06-23T21:13:08.242060Z",
     "shell.execute_reply": "2024-06-23T21:13:08.241196Z",
     "shell.execute_reply.started": "2024-06-23T21:13:07.601382Z"
    }
   },
   "outputs": [
    {
     "name": "stdout",
     "output_type": "stream",
     "text": [
      "[nltk_data] Downloading package stopwords to /usr/share/nltk_data...\n",
      "[nltk_data]   Package stopwords is already up-to-date!\n"
     ]
    }
   ],
   "source": [
    "\n",
    "nltk.download('stopwords')\n",
    "word_list = list(stopwords.words('english'))\n",
    "\n",
    "stop_words = [word for word in word_list]\n",
    "stop_words += [punct for punct in string.punctuation]\n",
    "vectorizer = CountVectorizer(stop_words=stop_words)\n",
    "cv_fit = vectorizer.fit_transform(train_data.Text)\n",
    "words = np.asarray(cv_fit.sum(axis=0))\n",
    "\n",
    "id2word = { id : word for word, id in vectorizer.vocabulary_.items()}"
   ]
  },
  {
   "cell_type": "code",
   "execution_count": 13,
   "metadata": {
    "execution": {
     "iopub.execute_input": "2024-06-23T21:13:08.246930Z",
     "iopub.status.busy": "2024-06-23T21:13:08.246627Z",
     "iopub.status.idle": "2024-06-23T21:13:08.440648Z",
     "shell.execute_reply": "2024-06-23T21:13:08.439438Z",
     "shell.execute_reply.started": "2024-06-23T21:13:08.246904Z"
    }
   },
   "outputs": [
    {
     "name": "stdout",
     "output_type": "stream",
     "text": [
      "8607 14538\n"
     ]
    }
   ],
   "source": [
    "# Remove the words that occur more than 1\n",
    "condition_range = words[0] > 1\n",
    "\n",
    "new_stop_words = []\n",
    "for i in np.argwhere(~condition_range):\n",
    "    new_stop_words.append(id2word[i[0]])\n",
    "\n",
    "keep_words = []\n",
    "for i in np.argwhere(condition_range):\n",
    "    keep_words.append(id2word[i[0]])\n",
    "\n",
    "# Remove digits\n",
    "digit_pattern = re.compile('\\d+')\n",
    "\n",
    "keep_words = set([word for word in keep_words if not digit_pattern.search(word)])\n",
    "\n",
    "print(len(new_stop_words), len(keep_words))\n",
    "\n",
    "text_lemmatized = [\" \".join([word.lower() for word in text.split() if word.lower() in keep_words]) for text in train_data.Text ]\n",
    "\n",
    "train_data['text_lematized'] = text_lemmatized\n"
   ]
  },
  {
   "cell_type": "markdown",
   "metadata": {},
   "source": [
    "Finally, we will use the TFIDF vectorizer as a simple encoder (note: it's not a real transformer) to feed arrays into the model that will be trained as the predictor. For supervised learning, we will use Logistic Regression, and for unsupervised learning, we will use NMF."
   ]
  },
  {
   "cell_type": "markdown",
   "metadata": {
    "execution": {
     "iopub.execute_input": "2024-06-23T19:58:28.560191Z",
     "iopub.status.busy": "2024-06-23T19:58:28.559515Z",
     "iopub.status.idle": "2024-06-23T19:58:28.566482Z",
     "shell.execute_reply": "2024-06-23T19:58:28.565249Z",
     "shell.execute_reply.started": "2024-06-23T19:58:28.560160Z"
    }
   },
   "source": [
    "The Term Frequency-Inverse Document Frequency (TF-IDF) vectorizer is a statistical tool utilized in natural language processing and information retrieval to assess the significance of a word within a document relative to a larger set of documents, known as a corpus. It is often used to convert text data into numerical vectors that can serve as input for machine learning models.\n",
    "\n",
    "How does it work? We need to understand two terms:\n",
    "\n",
    "- **Term Frequency (TF)**: How frequently a term appears in a document.\n",
    "- **Inverse Document Frequency (IDF)**: Reduces the significance of words that are common across all documents.\n",
    "\n",
    "The process is as follows:\n",
    "\n",
    "1. The text is broken down into words (tokens), typically converted to lowercase, and common stop words may be removed.\n",
    "2. For each term in each document, compute the term frequency.\n",
    "3. Compute the IDF value for each term across the entire corpus.\n",
    "4. Multiply the TF value by the IDF value for each term, forming a vector for each document."
   ]
  },
  {
   "cell_type": "code",
   "execution_count": 14,
   "metadata": {
    "execution": {
     "iopub.execute_input": "2024-06-23T21:13:08.442330Z",
     "iopub.status.busy": "2024-06-23T21:13:08.442031Z",
     "iopub.status.idle": "2024-06-23T21:13:08.803259Z",
     "shell.execute_reply": "2024-06-23T21:13:08.802281Z",
     "shell.execute_reply.started": "2024-06-23T21:13:08.442304Z"
    }
   },
   "outputs": [],
   "source": [
    "vectorizer = TfidfVectorizer(stop_words=stop_words + new_stop_words)\n",
    "cv_fit = vectorizer.fit_transform(text_lemmatized)"
   ]
  },
  {
   "cell_type": "markdown",
   "metadata": {
    "execution": {
     "iopub.execute_input": "2024-06-23T19:44:16.056662Z",
     "iopub.status.busy": "2024-06-23T19:44:16.055775Z",
     "iopub.status.idle": "2024-06-23T19:44:16.060256Z",
     "shell.execute_reply": "2024-06-23T19:44:16.059320Z",
     "shell.execute_reply.started": "2024-06-23T19:44:16.056618Z"
    }
   },
   "source": [
    "# Hyperparameter search (logistic regression and NMF)"
   ]
  },
  {
   "cell_type": "markdown",
   "metadata": {},
   "source": [
    "## Splitting the dataset"
   ]
  },
  {
   "cell_type": "code",
   "execution_count": 15,
   "metadata": {
    "execution": {
     "iopub.execute_input": "2024-06-23T21:13:08.804755Z",
     "iopub.status.busy": "2024-06-23T21:13:08.804447Z",
     "iopub.status.idle": "2024-06-23T21:13:08.814786Z",
     "shell.execute_reply": "2024-06-23T21:13:08.813864Z",
     "shell.execute_reply.started": "2024-06-23T21:13:08.804732Z"
    }
   },
   "outputs": [],
   "source": [
    "X_train, X_test, y_train, y_test = train_test_split(cv_fit, train_data['Category'], stratify=train_data['Category'], test_size=.20)\n"
   ]
  },
  {
   "cell_type": "markdown",
   "metadata": {},
   "source": [
    "# Hyperparameter search"
   ]
  },
  {
   "cell_type": "markdown",
   "metadata": {
    "execution": {
     "iopub.execute_input": "2024-06-23T20:57:06.792395Z",
     "iopub.status.busy": "2024-06-23T20:57:06.792016Z",
     "iopub.status.idle": "2024-06-23T20:57:06.799463Z",
     "shell.execute_reply": "2024-06-23T20:57:06.797808Z",
     "shell.execute_reply.started": "2024-06-23T20:57:06.792346Z"
    }
   },
   "source": [
    "We need to create a custom model that can be used with the GridSearchCV class."
   ]
  },
  {
   "cell_type": "markdown",
   "metadata": {},
   "source": [
    "This is a snippet reused from the Clustering Assignment in Week 2. It reassigns the found labels into the categories"
   ]
  },
  {
   "cell_type": "code",
   "execution_count": 28,
   "metadata": {
    "execution": {
     "iopub.execute_input": "2024-06-23T21:18:02.828133Z",
     "iopub.status.busy": "2024-06-23T21:18:02.827763Z",
     "iopub.status.idle": "2024-06-23T21:18:02.836002Z",
     "shell.execute_reply": "2024-06-23T21:18:02.834806Z",
     "shell.execute_reply.started": "2024-06-23T21:18:02.828106Z"
    }
   },
   "outputs": [],
   "source": [
    "class GridLikeNMF(NMF):\n",
    "    \n",
    "    def fit(self, X, y, *args, **kwargs):\n",
    "        results = super().fit_transform(X, *args, **kwargs)\n",
    "        self.labelorder, acc = label_permute_compare(y, results.argmax(axis=1))\n",
    "    \n",
    "    def predict(self, X):\n",
    "        test_results = self.transform(X)\n",
    "        return np.vectorize(lambda x: self.labelorder(x)[0])(test_results.argmax(axis=1))\n",
    "    \n",
    "    def score(self, X, y):\n",
    "        y_pred = self.predict(X)\n",
    "        return accuracy_score(y, y_pred)"
   ]
  },
  {
   "cell_type": "code",
   "execution_count": 29,
   "metadata": {
    "execution": {
     "iopub.execute_input": "2024-06-23T21:18:03.231918Z",
     "iopub.status.busy": "2024-06-23T21:18:03.231620Z",
     "iopub.status.idle": "2024-06-23T21:18:03.240893Z",
     "shell.execute_reply": "2024-06-23T21:18:03.239988Z",
     "shell.execute_reply.started": "2024-06-23T21:18:03.231895Z"
    }
   },
   "outputs": [],
   "source": [
    "def label_permute_compare(ytdf,yp,n=5):\n",
    "    \"\"\"\n",
    "    ytdf: labels dataframe object\n",
    "    yp: clustering label prediction output\n",
    "    Returns permuted label order and accuracy. \n",
    "    Example output: (3, 4, 1, 2, 0), 0.74 \n",
    "    \"\"\"\n",
    "    label_encoder = LabelEncoder()\n",
    "    yt_transformed = label_encoder.fit_transform(ytdf)\n",
    "    cost_matrix = np.zeros((n, n))\n",
    "    \n",
    "    for i in range(n):\n",
    "        for j in range(n):\n",
    "            cost_matrix[i, j] = np.sum((yt_transformed == i) & (yp != j))\n",
    "    \n",
    "    row_ind, col_ind = linear_sum_assignment(cost_matrix)\n",
    "    label_mapping = {old_label: new_label for old_label, new_label in zip(col_ind, row_ind)} \n",
    "    yp_permuted = [label_encoder.inverse_transform([label_mapping.get(x)]) for x in yp]\n",
    "    accuracy = accuracy_score(ytdf, yp_permuted)\n",
    "    original_labels = label_encoder.inverse_transform(col_ind)\n",
    "    new_labels_order = [label_encoder.inverse_transform([label_mapping.get(x)]) for x in yp]\n",
    "    permuted_labels = tuple(original_labels[i] for i in row_ind)\n",
    "    return lambda x : label_encoder.inverse_transform([label_mapping.get(x)]), accuracy\n"
   ]
  },
  {
   "cell_type": "markdown",
   "metadata": {
    "execution": {
     "iopub.execute_input": "2024-06-23T17:18:09.117232Z",
     "iopub.status.busy": "2024-06-23T17:18:09.116833Z",
     "iopub.status.idle": "2024-06-23T17:18:09.121826Z",
     "shell.execute_reply": "2024-06-23T17:18:09.120787Z",
     "shell.execute_reply.started": "2024-06-23T17:18:09.117181Z"
    }
   },
   "source": [
    "## Searching for parameters"
   ]
  },
  {
   "cell_type": "markdown",
   "metadata": {},
   "source": [
    "What is most important here is that I set CV to 2 because NMF needs as much data as possible. It seems to underperform when CV is set to 3 or more folds."
   ]
  },
  {
   "cell_type": "code",
   "execution_count": 30,
   "metadata": {
    "execution": {
     "iopub.execute_input": "2024-06-23T21:18:12.624683Z",
     "iopub.status.busy": "2024-06-23T21:18:12.623807Z",
     "iopub.status.idle": "2024-06-23T21:18:45.738527Z",
     "shell.execute_reply": "2024-06-23T21:18:45.737500Z",
     "shell.execute_reply.started": "2024-06-23T21:18:12.624649Z"
    }
   },
   "outputs": [
    {
     "name": "stdout",
     "output_type": "stream",
     "text": [
      "Performing Grid Search for log_reg...\n"
     ]
    },
    {
     "name": "stderr",
     "output_type": "stream",
     "text": [
      "/opt/conda/lib/python3.10/site-packages/sklearn/linear_model/_logistic.py:1211: UserWarning: 'n_jobs' > 1 does not have any effect when 'solver' is set to 'liblinear'. Got 'n_jobs' = 5.\n",
      "  warnings.warn(\n",
      "/opt/conda/lib/python3.10/site-packages/sklearn/linear_model/_logistic.py:1211: UserWarning: 'n_jobs' > 1 does not have any effect when 'solver' is set to 'liblinear'. Got 'n_jobs' = 5.\n",
      "  warnings.warn(\n",
      "/opt/conda/lib/python3.10/site-packages/sklearn/linear_model/_logistic.py:1211: UserWarning: 'n_jobs' > 1 does not have any effect when 'solver' is set to 'liblinear'. Got 'n_jobs' = 5.\n",
      "  warnings.warn(\n",
      "/opt/conda/lib/python3.10/site-packages/sklearn/linear_model/_logistic.py:1211: UserWarning: 'n_jobs' > 1 does not have any effect when 'solver' is set to 'liblinear'. Got 'n_jobs' = 5.\n",
      "  warnings.warn(\n",
      "/opt/conda/lib/python3.10/site-packages/sklearn/linear_model/_logistic.py:1211: UserWarning: 'n_jobs' > 1 does not have any effect when 'solver' is set to 'liblinear'. Got 'n_jobs' = 5.\n",
      "  warnings.warn(\n",
      "/opt/conda/lib/python3.10/site-packages/sklearn/linear_model/_logistic.py:1211: UserWarning: 'n_jobs' > 1 does not have any effect when 'solver' is set to 'liblinear'. Got 'n_jobs' = 5.\n",
      "  warnings.warn(\n",
      "/opt/conda/lib/python3.10/site-packages/sklearn/linear_model/_logistic.py:1211: UserWarning: 'n_jobs' > 1 does not have any effect when 'solver' is set to 'liblinear'. Got 'n_jobs' = 5.\n",
      "  warnings.warn(\n"
     ]
    },
    {
     "name": "stdout",
     "output_type": "stream",
     "text": [
      "Best parameters for log_reg: {'C': 10, 'solver': 'liblinear'}\n",
      "Best F1 Score for log_reg: 0.95367450286084\n",
      "\n",
      "Performing Grid Search for custom_nmf...\n"
     ]
    },
    {
     "name": "stderr",
     "output_type": "stream",
     "text": [
      "/opt/conda/lib/python3.10/site-packages/sklearn/decomposition/_nmf.py:1524: UserWarning: The multiplicative update ('mu') solver cannot update zeros present in the initialization, and so leads to poorer results when used jointly with init='nndsvd'. You may try init='nndsvda' or init='nndsvdar' instead.\n",
      "  warnings.warn(\n",
      "/opt/conda/lib/python3.10/site-packages/sklearn/decomposition/_nmf.py:1524: UserWarning: The multiplicative update ('mu') solver cannot update zeros present in the initialization, and so leads to poorer results when used jointly with init='nndsvd'. You may try init='nndsvda' or init='nndsvdar' instead.\n",
      "  warnings.warn(\n",
      "/opt/conda/lib/python3.10/site-packages/sklearn/decomposition/_nmf.py:1524: UserWarning: The multiplicative update ('mu') solver cannot update zeros present in the initialization, and so leads to poorer results when used jointly with init='nndsvd'. You may try init='nndsvda' or init='nndsvdar' instead.\n",
      "  warnings.warn(\n",
      "/opt/conda/lib/python3.10/site-packages/sklearn/decomposition/_nmf.py:1524: UserWarning: The multiplicative update ('mu') solver cannot update zeros present in the initialization, and so leads to poorer results when used jointly with init='nndsvd'. You may try init='nndsvda' or init='nndsvdar' instead.\n",
      "  warnings.warn(\n",
      "/opt/conda/lib/python3.10/site-packages/sklearn/decomposition/_nmf.py:1524: UserWarning: The multiplicative update ('mu') solver cannot update zeros present in the initialization, and so leads to poorer results when used jointly with init='nndsvd'. You may try init='nndsvda' or init='nndsvdar' instead.\n",
      "  warnings.warn(\n",
      "/opt/conda/lib/python3.10/site-packages/sklearn/decomposition/_nmf.py:1524: UserWarning: The multiplicative update ('mu') solver cannot update zeros present in the initialization, and so leads to poorer results when used jointly with init='nndsvd'. You may try init='nndsvda' or init='nndsvdar' instead.\n",
      "  warnings.warn(\n",
      "/opt/conda/lib/python3.10/site-packages/sklearn/decomposition/_nmf.py:1524: UserWarning: The multiplicative update ('mu') solver cannot update zeros present in the initialization, and so leads to poorer results when used jointly with init='nndsvd'. You may try init='nndsvda' or init='nndsvdar' instead.\n",
      "  warnings.warn(\n",
      "/opt/conda/lib/python3.10/site-packages/sklearn/decomposition/_nmf.py:1524: UserWarning: The multiplicative update ('mu') solver cannot update zeros present in the initialization, and so leads to poorer results when used jointly with init='nndsvd'. You may try init='nndsvda' or init='nndsvdar' instead.\n",
      "  warnings.warn(\n",
      "/opt/conda/lib/python3.10/site-packages/sklearn/decomposition/_nmf.py:1524: UserWarning: The multiplicative update ('mu') solver cannot update zeros present in the initialization, and so leads to poorer results when used jointly with init='nndsvd'. You may try init='nndsvda' or init='nndsvdar' instead.\n",
      "  warnings.warn(\n",
      "/opt/conda/lib/python3.10/site-packages/sklearn/decomposition/_nmf.py:1524: UserWarning: The multiplicative update ('mu') solver cannot update zeros present in the initialization, and so leads to poorer results when used jointly with init='nndsvd'. You may try init='nndsvda' or init='nndsvdar' instead.\n",
      "  warnings.warn(\n",
      "/opt/conda/lib/python3.10/site-packages/sklearn/decomposition/_nmf.py:1524: UserWarning: The multiplicative update ('mu') solver cannot update zeros present in the initialization, and so leads to poorer results when used jointly with init='nndsvd'. You may try init='nndsvda' or init='nndsvdar' instead.\n",
      "  warnings.warn(\n",
      "/opt/conda/lib/python3.10/site-packages/sklearn/decomposition/_nmf.py:1524: UserWarning: The multiplicative update ('mu') solver cannot update zeros present in the initialization, and so leads to poorer results when used jointly with init='nndsvd'. You may try init='nndsvda' or init='nndsvdar' instead.\n",
      "  warnings.warn(\n",
      "/opt/conda/lib/python3.10/site-packages/sklearn/decomposition/_nmf.py:1524: UserWarning: The multiplicative update ('mu') solver cannot update zeros present in the initialization, and so leads to poorer results when used jointly with init='nndsvd'. You may try init='nndsvda' or init='nndsvdar' instead.\n",
      "  warnings.warn(\n",
      "/opt/conda/lib/python3.10/site-packages/sklearn/decomposition/_nmf.py:1524: UserWarning: The multiplicative update ('mu') solver cannot update zeros present in the initialization, and so leads to poorer results when used jointly with init='nndsvd'. You may try init='nndsvda' or init='nndsvdar' instead.\n",
      "  warnings.warn(\n",
      "/opt/conda/lib/python3.10/site-packages/sklearn/decomposition/_nmf.py:1524: UserWarning: The multiplicative update ('mu') solver cannot update zeros present in the initialization, and so leads to poorer results when used jointly with init='nndsvd'. You may try init='nndsvda' or init='nndsvdar' instead.\n",
      "  warnings.warn(\n",
      "/opt/conda/lib/python3.10/site-packages/sklearn/decomposition/_nmf.py:1524: UserWarning: The multiplicative update ('mu') solver cannot update zeros present in the initialization, and so leads to poorer results when used jointly with init='nndsvd'. You may try init='nndsvda' or init='nndsvdar' instead.\n",
      "  warnings.warn(\n",
      "/opt/conda/lib/python3.10/site-packages/sklearn/decomposition/_nmf.py:1524: UserWarning: The multiplicative update ('mu') solver cannot update zeros present in the initialization, and so leads to poorer results when used jointly with init='nndsvd'. You may try init='nndsvda' or init='nndsvdar' instead.\n",
      "  warnings.warn(\n",
      "/opt/conda/lib/python3.10/site-packages/sklearn/decomposition/_nmf.py:1524: UserWarning: The multiplicative update ('mu') solver cannot update zeros present in the initialization, and so leads to poorer results when used jointly with init='nndsvd'. You may try init='nndsvda' or init='nndsvdar' instead.\n",
      "  warnings.warn(\n",
      "/opt/conda/lib/python3.10/site-packages/sklearn/decomposition/_nmf.py:1524: UserWarning: The multiplicative update ('mu') solver cannot update zeros present in the initialization, and so leads to poorer results when used jointly with init='nndsvd'. You may try init='nndsvda' or init='nndsvdar' instead.\n",
      "  warnings.warn(\n",
      "/opt/conda/lib/python3.10/site-packages/sklearn/decomposition/_nmf.py:1524: UserWarning: The multiplicative update ('mu') solver cannot update zeros present in the initialization, and so leads to poorer results when used jointly with init='nndsvd'. You may try init='nndsvda' or init='nndsvdar' instead.\n",
      "  warnings.warn(\n",
      "/opt/conda/lib/python3.10/site-packages/sklearn/decomposition/_nmf.py:1524: UserWarning: The multiplicative update ('mu') solver cannot update zeros present in the initialization, and so leads to poorer results when used jointly with init='nndsvd'. You may try init='nndsvda' or init='nndsvdar' instead.\n",
      "  warnings.warn(\n",
      "/opt/conda/lib/python3.10/site-packages/sklearn/decomposition/_nmf.py:1524: UserWarning: The multiplicative update ('mu') solver cannot update zeros present in the initialization, and so leads to poorer results when used jointly with init='nndsvd'. You may try init='nndsvda' or init='nndsvdar' instead.\n",
      "  warnings.warn(\n",
      "/opt/conda/lib/python3.10/site-packages/sklearn/decomposition/_nmf.py:1524: UserWarning: The multiplicative update ('mu') solver cannot update zeros present in the initialization, and so leads to poorer results when used jointly with init='nndsvd'. You may try init='nndsvda' or init='nndsvdar' instead.\n",
      "  warnings.warn(\n",
      "/opt/conda/lib/python3.10/site-packages/sklearn/decomposition/_nmf.py:1524: UserWarning: The multiplicative update ('mu') solver cannot update zeros present in the initialization, and so leads to poorer results when used jointly with init='nndsvd'. You may try init='nndsvda' or init='nndsvdar' instead.\n",
      "  warnings.warn(\n",
      "/opt/conda/lib/python3.10/site-packages/sklearn/decomposition/_nmf.py:1524: UserWarning: The multiplicative update ('mu') solver cannot update zeros present in the initialization, and so leads to poorer results when used jointly with init='nndsvd'. You may try init='nndsvda' or init='nndsvdar' instead.\n",
      "  warnings.warn(\n",
      "/opt/conda/lib/python3.10/site-packages/sklearn/decomposition/_nmf.py:1524: UserWarning: The multiplicative update ('mu') solver cannot update zeros present in the initialization, and so leads to poorer results when used jointly with init='nndsvd'. You may try init='nndsvda' or init='nndsvdar' instead.\n",
      "  warnings.warn(\n",
      "/opt/conda/lib/python3.10/site-packages/sklearn/decomposition/_nmf.py:1524: UserWarning: The multiplicative update ('mu') solver cannot update zeros present in the initialization, and so leads to poorer results when used jointly with init='nndsvd'. You may try init='nndsvda' or init='nndsvdar' instead.\n",
      "  warnings.warn(\n",
      "/opt/conda/lib/python3.10/site-packages/sklearn/decomposition/_nmf.py:1524: UserWarning: The multiplicative update ('mu') solver cannot update zeros present in the initialization, and so leads to poorer results when used jointly with init='nndsvd'. You may try init='nndsvda' or init='nndsvdar' instead.\n",
      "  warnings.warn(\n",
      "/opt/conda/lib/python3.10/site-packages/sklearn/decomposition/_nmf.py:1524: UserWarning: The multiplicative update ('mu') solver cannot update zeros present in the initialization, and so leads to poorer results when used jointly with init='nndsvd'. You may try init='nndsvda' or init='nndsvdar' instead.\n",
      "  warnings.warn(\n",
      "/opt/conda/lib/python3.10/site-packages/sklearn/decomposition/_nmf.py:1524: UserWarning: The multiplicative update ('mu') solver cannot update zeros present in the initialization, and so leads to poorer results when used jointly with init='nndsvd'. You may try init='nndsvda' or init='nndsvdar' instead.\n",
      "  warnings.warn(\n",
      "/opt/conda/lib/python3.10/site-packages/sklearn/decomposition/_nmf.py:1524: UserWarning: The multiplicative update ('mu') solver cannot update zeros present in the initialization, and so leads to poorer results when used jointly with init='nndsvd'. You may try init='nndsvda' or init='nndsvdar' instead.\n",
      "  warnings.warn(\n",
      "/opt/conda/lib/python3.10/site-packages/sklearn/decomposition/_nmf.py:1524: UserWarning: The multiplicative update ('mu') solver cannot update zeros present in the initialization, and so leads to poorer results when used jointly with init='nndsvd'. You may try init='nndsvda' or init='nndsvdar' instead.\n",
      "  warnings.warn(\n",
      "/opt/conda/lib/python3.10/site-packages/sklearn/decomposition/_nmf.py:1524: UserWarning: The multiplicative update ('mu') solver cannot update zeros present in the initialization, and so leads to poorer results when used jointly with init='nndsvd'. You may try init='nndsvda' or init='nndsvdar' instead.\n",
      "  warnings.warn(\n",
      "/opt/conda/lib/python3.10/site-packages/sklearn/decomposition/_nmf.py:1524: UserWarning: The multiplicative update ('mu') solver cannot update zeros present in the initialization, and so leads to poorer results when used jointly with init='nndsvd'. You may try init='nndsvda' or init='nndsvdar' instead.\n",
      "  warnings.warn(\n",
      "/opt/conda/lib/python3.10/site-packages/sklearn/decomposition/_nmf.py:1524: UserWarning: The multiplicative update ('mu') solver cannot update zeros present in the initialization, and so leads to poorer results when used jointly with init='nndsvd'. You may try init='nndsvda' or init='nndsvdar' instead.\n",
      "  warnings.warn(\n",
      "/opt/conda/lib/python3.10/site-packages/sklearn/decomposition/_nmf.py:1524: UserWarning: The multiplicative update ('mu') solver cannot update zeros present in the initialization, and so leads to poorer results when used jointly with init='nndsvd'. You may try init='nndsvda' or init='nndsvdar' instead.\n",
      "  warnings.warn(\n",
      "/opt/conda/lib/python3.10/site-packages/sklearn/decomposition/_nmf.py:1524: UserWarning: The multiplicative update ('mu') solver cannot update zeros present in the initialization, and so leads to poorer results when used jointly with init='nndsvd'. You may try init='nndsvda' or init='nndsvdar' instead.\n",
      "  warnings.warn(\n",
      "/opt/conda/lib/python3.10/site-packages/sklearn/decomposition/_nmf.py:1524: UserWarning: The multiplicative update ('mu') solver cannot update zeros present in the initialization, and so leads to poorer results when used jointly with init='nndsvd'. You may try init='nndsvda' or init='nndsvdar' instead.\n",
      "  warnings.warn(\n",
      "/opt/conda/lib/python3.10/site-packages/sklearn/decomposition/_nmf.py:1524: UserWarning: The multiplicative update ('mu') solver cannot update zeros present in the initialization, and so leads to poorer results when used jointly with init='nndsvd'. You may try init='nndsvda' or init='nndsvdar' instead.\n",
      "  warnings.warn(\n",
      "/opt/conda/lib/python3.10/site-packages/sklearn/decomposition/_nmf.py:1524: UserWarning: The multiplicative update ('mu') solver cannot update zeros present in the initialization, and so leads to poorer results when used jointly with init='nndsvd'. You may try init='nndsvda' or init='nndsvdar' instead.\n",
      "  warnings.warn(\n",
      "/opt/conda/lib/python3.10/site-packages/sklearn/decomposition/_nmf.py:1524: UserWarning: The multiplicative update ('mu') solver cannot update zeros present in the initialization, and so leads to poorer results when used jointly with init='nndsvd'. You may try init='nndsvda' or init='nndsvdar' instead.\n",
      "  warnings.warn(\n",
      "/opt/conda/lib/python3.10/site-packages/sklearn/decomposition/_nmf.py:1524: UserWarning: The multiplicative update ('mu') solver cannot update zeros present in the initialization, and so leads to poorer results when used jointly with init='nndsvd'. You may try init='nndsvda' or init='nndsvdar' instead.\n",
      "  warnings.warn(\n",
      "/opt/conda/lib/python3.10/site-packages/sklearn/decomposition/_nmf.py:1524: UserWarning: The multiplicative update ('mu') solver cannot update zeros present in the initialization, and so leads to poorer results when used jointly with init='nndsvd'. You may try init='nndsvda' or init='nndsvdar' instead.\n",
      "  warnings.warn(\n",
      "/opt/conda/lib/python3.10/site-packages/sklearn/decomposition/_nmf.py:1524: UserWarning: The multiplicative update ('mu') solver cannot update zeros present in the initialization, and so leads to poorer results when used jointly with init='nndsvd'. You may try init='nndsvda' or init='nndsvdar' instead.\n",
      "  warnings.warn(\n",
      "/opt/conda/lib/python3.10/site-packages/sklearn/decomposition/_nmf.py:1524: UserWarning: The multiplicative update ('mu') solver cannot update zeros present in the initialization, and so leads to poorer results when used jointly with init='nndsvd'. You may try init='nndsvda' or init='nndsvdar' instead.\n",
      "  warnings.warn(\n",
      "/opt/conda/lib/python3.10/site-packages/sklearn/decomposition/_nmf.py:1524: UserWarning: The multiplicative update ('mu') solver cannot update zeros present in the initialization, and so leads to poorer results when used jointly with init='nndsvd'. You may try init='nndsvda' or init='nndsvdar' instead.\n",
      "  warnings.warn(\n",
      "/opt/conda/lib/python3.10/site-packages/sklearn/decomposition/_nmf.py:1524: UserWarning: The multiplicative update ('mu') solver cannot update zeros present in the initialization, and so leads to poorer results when used jointly with init='nndsvd'. You may try init='nndsvda' or init='nndsvdar' instead.\n",
      "  warnings.warn(\n",
      "/opt/conda/lib/python3.10/site-packages/sklearn/model_selection/_validation.py:378: FitFailedWarning: \n",
      "180 fits failed out of a total of 300.\n",
      "The score on these train-test partitions for these parameters will be set to nan.\n",
      "If these failures are not expected, you can try to debug them by setting error_score='raise'.\n",
      "\n",
      "Below are more details about the failures:\n",
      "--------------------------------------------------------------------------------\n",
      "30 fits failed with the following error:\n",
      "Traceback (most recent call last):\n",
      "  File \"/opt/conda/lib/python3.10/site-packages/sklearn/model_selection/_validation.py\", line 686, in _fit_and_score\n",
      "    estimator.fit(X_train, y_train, **fit_params)\n",
      "  File \"/tmp/ipykernel_4341/1846140254.py\", line 4, in fit\n",
      "  File \"/opt/conda/lib/python3.10/site-packages/sklearn/utils/_set_output.py\", line 140, in wrapped\n",
      "    data_to_wrap = f(self, X, *args, **kwargs)\n",
      "  File \"/opt/conda/lib/python3.10/site-packages/sklearn/decomposition/_nmf.py\", line 1566, in fit_transform\n",
      "    W, H, n_iter = self._fit_transform(X, W=W, H=H)\n",
      "  File \"/opt/conda/lib/python3.10/site-packages/sklearn/decomposition/_nmf.py\", line 1625, in _fit_transform\n",
      "    W, H = self._check_w_h(X, W, H, update_H)\n",
      "  File \"/opt/conda/lib/python3.10/site-packages/sklearn/decomposition/_nmf.py\", line 1176, in _check_w_h\n",
      "    _check_init(H, (self._n_components, n_features), \"NMF (input H)\")\n",
      "  File \"/opt/conda/lib/python3.10/site-packages/sklearn/decomposition/_nmf.py\", line 66, in _check_init\n",
      "    A = check_array(A)\n",
      "  File \"/opt/conda/lib/python3.10/site-packages/sklearn/utils/validation.py\", line 894, in check_array\n",
      "    raise ValueError(\n",
      "ValueError: Expected 2D array, got scalar array instead:\n",
      "array=None.\n",
      "Reshape your data either using array.reshape(-1, 1) if your data has a single feature or array.reshape(1, -1) if it contains a single sample.\n",
      "\n",
      "--------------------------------------------------------------------------------\n",
      "50 fits failed with the following error:\n",
      "Traceback (most recent call last):\n",
      "  File \"/opt/conda/lib/python3.10/site-packages/sklearn/model_selection/_validation.py\", line 686, in _fit_and_score\n",
      "    estimator.fit(X_train, y_train, **fit_params)\n",
      "  File \"/tmp/ipykernel_4341/1846140254.py\", line 4, in fit\n",
      "  File \"/opt/conda/lib/python3.10/site-packages/sklearn/utils/_set_output.py\", line 140, in wrapped\n",
      "    data_to_wrap = f(self, X, *args, **kwargs)\n",
      "  File \"/opt/conda/lib/python3.10/site-packages/sklearn/decomposition/_nmf.py\", line 1566, in fit_transform\n",
      "    W, H, n_iter = self._fit_transform(X, W=W, H=H)\n",
      "  File \"/opt/conda/lib/python3.10/site-packages/sklearn/decomposition/_nmf.py\", line 1615, in _fit_transform\n",
      "    self._check_params(X)\n",
      "  File \"/opt/conda/lib/python3.10/site-packages/sklearn/decomposition/_nmf.py\", line 1519, in _check_params\n",
      "    raise ValueError(\n",
      "ValueError: Invalid beta_loss parameter: solver 'cd' does not handle beta_loss = 'kullback-leibler'\n",
      "\n",
      "--------------------------------------------------------------------------------\n",
      "50 fits failed with the following error:\n",
      "Traceback (most recent call last):\n",
      "  File \"/opt/conda/lib/python3.10/site-packages/sklearn/model_selection/_validation.py\", line 686, in _fit_and_score\n",
      "    estimator.fit(X_train, y_train, **fit_params)\n",
      "  File \"/tmp/ipykernel_4341/1846140254.py\", line 4, in fit\n",
      "  File \"/opt/conda/lib/python3.10/site-packages/sklearn/utils/_set_output.py\", line 140, in wrapped\n",
      "    data_to_wrap = f(self, X, *args, **kwargs)\n",
      "  File \"/opt/conda/lib/python3.10/site-packages/sklearn/decomposition/_nmf.py\", line 1566, in fit_transform\n",
      "    W, H, n_iter = self._fit_transform(X, W=W, H=H)\n",
      "  File \"/opt/conda/lib/python3.10/site-packages/sklearn/decomposition/_nmf.py\", line 1615, in _fit_transform\n",
      "    self._check_params(X)\n",
      "  File \"/opt/conda/lib/python3.10/site-packages/sklearn/decomposition/_nmf.py\", line 1519, in _check_params\n",
      "    raise ValueError(\n",
      "ValueError: Invalid beta_loss parameter: solver 'cd' does not handle beta_loss = 'itakura-saito'\n",
      "\n",
      "--------------------------------------------------------------------------------\n",
      "50 fits failed with the following error:\n",
      "Traceback (most recent call last):\n",
      "  File \"/opt/conda/lib/python3.10/site-packages/sklearn/model_selection/_validation.py\", line 686, in _fit_and_score\n",
      "    estimator.fit(X_train, y_train, **fit_params)\n",
      "  File \"/tmp/ipykernel_4341/1846140254.py\", line 4, in fit\n",
      "  File \"/opt/conda/lib/python3.10/site-packages/sklearn/utils/_set_output.py\", line 140, in wrapped\n",
      "    data_to_wrap = f(self, X, *args, **kwargs)\n",
      "  File \"/opt/conda/lib/python3.10/site-packages/sklearn/decomposition/_nmf.py\", line 1566, in fit_transform\n",
      "    W, H, n_iter = self._fit_transform(X, W=W, H=H)\n",
      "  File \"/opt/conda/lib/python3.10/site-packages/sklearn/decomposition/_nmf.py\", line 1618, in _fit_transform\n",
      "    raise ValueError(\n",
      "ValueError: When beta_loss <= 0 and X contains zeros, the solver may diverge. Please add small values to X, or use a positive beta_loss.\n",
      "\n",
      "  warnings.warn(some_fits_failed_message, FitFailedWarning)\n",
      "/opt/conda/lib/python3.10/site-packages/sklearn/model_selection/_search.py:952: UserWarning: One or more of the test scores are non-finite: [0.08887468 0.08887468 0.08887468 0.08887468 0.08887468 0.08887468\n",
      " 0.08887468 0.08887468        nan        nan        nan 0.68289948\n",
      "        nan 0.8948863         nan 0.92893652        nan 0.93138291\n",
      "        nan        nan        nan        nan        nan        nan\n",
      "        nan        nan        nan        nan        nan        nan\n",
      " 0.08887468 0.08887468 0.08887468 0.08887468 0.08887468 0.08887468\n",
      " 0.08887468 0.08887468        nan        nan        nan 0.70441764\n",
      "        nan 0.87670269        nan 0.93404053        nan 0.93908739\n",
      "        nan        nan        nan        nan        nan        nan\n",
      "        nan        nan        nan        nan        nan        nan\n",
      " 0.08887468 0.08887468 0.08887468 0.08887468 0.08887468 0.08887468\n",
      " 0.08887468 0.08887468        nan        nan        nan 0.89763323\n",
      "        nan 0.23957437        nan 0.48067039        nan 0.34788928\n",
      "        nan        nan        nan        nan        nan        nan\n",
      "        nan        nan        nan        nan        nan        nan\n",
      " 0.08887468 0.08887468 0.08887468 0.08887468 0.08887468 0.08887468\n",
      " 0.08887468 0.08887468        nan        nan        nan 0.086551\n",
      "        nan 0.08887468        nan 0.08887468        nan 0.08887468\n",
      "        nan        nan        nan        nan        nan        nan\n",
      "        nan        nan        nan        nan        nan        nan\n",
      " 0.08887468 0.08887468 0.08887468 0.08887468 0.08887468 0.08887468\n",
      " 0.08887468 0.08887468        nan        nan        nan 0.19876668\n",
      "        nan 0.08887468        nan 0.08887468        nan 0.08887468\n",
      "        nan        nan        nan        nan        nan        nan\n",
      "        nan        nan        nan        nan        nan        nan]\n",
      "  warnings.warn(\n"
     ]
    },
    {
     "name": "stdout",
     "output_type": "stream",
     "text": [
      "Best parameters for custom_nmf: {'alpha_W': 0.1, 'beta_loss': 'kullback-leibler', 'init': 'nndsvdar', 'solver': 'mu'}\n",
      "Best F1 Score for custom_nmf: 0.9390873887815626\n",
      "\n"
     ]
    }
   ],
   "source": [
    "def create_param_grids():\n",
    "    param_grids = {\n",
    "        'custom_nmf': dict(\n",
    "                init = ['random', 'nndsvd', 'nndsvda', 'nndsvdar', 'custom'],\n",
    "        solver = [\n",
    "            'cd', 'mu'],\n",
    "        beta_loss = [\"frobenius\", \"kullback-leibler\", \"itakura-saito\"] ,\n",
    "        alpha_W = [0.01, 0.1, 1.0, 10, 100]\n",
    "\n",
    "        ),\n",
    "        'log_reg': {\n",
    "            'C': [0.1, 1, 10],\n",
    "            'solver': ['lbfgs', 'liblinear'],\n",
    "        },\n",
    "    }\n",
    "    return param_grids\n",
    "\n",
    "def create_models():\n",
    "    models = {\n",
    "        'log_reg': LogisticRegression(n_jobs=5),\n",
    "        'custom_nmf': GridLikeNMF(n_components=5)\n",
    "    }\n",
    "    return models\n",
    "\n",
    "def search_best_params(cv, models, param_grids):\n",
    "    best_estimators = {}\n",
    "    for model_name, model in models.items():\n",
    "        print(f\"Performing Grid Search for {model_name}...\")\n",
    "        grid_search = GridSearchCV(model, param_grids[model_name], scoring='f1_weighted', cv=cv, n_jobs=-1)\n",
    "        grid_search.fit(X_train, y_train)\n",
    "        best_estimators[model_name] = {}\n",
    "        best_estimators[model_name][\"model_params\"] = grid_search.best_params_\n",
    "        best_estimators[model_name][\"f1_score\"] = grid_search.best_score_\n",
    "        best_estimators[model_name][\"model\"] = grid_search.best_estimator_\n",
    "        \n",
    "        print(f\"Best parameters for {model_name}: {grid_search.best_params_}\")\n",
    "        print(f\"Best F1 Score for {model_name}: {grid_search.best_score_}\\n\")\n",
    "    return best_estimators\n",
    "\n",
    "cv = StratifiedKFold(n_splits=2, shuffle=True, random_state=1)\n",
    "models = create_models()\n",
    "param_grids = create_param_grids()\n",
    "best_estimators = search_best_params(cv, models, param_grids)"
   ]
  },
  {
   "cell_type": "code",
   "execution_count": 31,
   "metadata": {
    "execution": {
     "iopub.execute_input": "2024-06-23T21:18:45.741565Z",
     "iopub.status.busy": "2024-06-23T21:18:45.740832Z",
     "iopub.status.idle": "2024-06-23T21:18:45.749246Z",
     "shell.execute_reply": "2024-06-23T21:18:45.748170Z",
     "shell.execute_reply.started": "2024-06-23T21:18:45.741526Z"
    }
   },
   "outputs": [
    {
     "data": {
      "text/plain": [
       "{'log_reg': {'model_params': {'C': 10, 'solver': 'liblinear'},\n",
       "  'f1_score': 0.95367450286084,\n",
       "  'model': LogisticRegression(C=10, n_jobs=5, solver='liblinear')},\n",
       " 'custom_nmf': {'model_params': {'alpha_W': 0.1,\n",
       "   'beta_loss': 'kullback-leibler',\n",
       "   'init': 'nndsvdar',\n",
       "   'solver': 'mu'},\n",
       "  'f1_score': 0.9390873887815626,\n",
       "  'model': GridLikeNMF(alpha_W=0.1, beta_loss='kullback-leibler', init='nndsvdar',\n",
       "              n_components=5, solver='mu')}}"
      ]
     },
     "execution_count": 31,
     "metadata": {},
     "output_type": "execute_result"
    }
   ],
   "source": [
    "best_estimators"
   ]
  },
  {
   "cell_type": "code",
   "execution_count": 32,
   "metadata": {
    "execution": {
     "iopub.execute_input": "2024-06-23T21:18:45.751273Z",
     "iopub.status.busy": "2024-06-23T21:18:45.750508Z",
     "iopub.status.idle": "2024-06-23T21:18:46.156721Z",
     "shell.execute_reply": "2024-06-23T21:18:46.155724Z",
     "shell.execute_reply.started": "2024-06-23T21:18:45.751236Z"
    }
   },
   "outputs": [
    {
     "name": "stdout",
     "output_type": "stream",
     "text": [
      "[[65  0  1  0  1]\n",
      " [ 0 54  0  0  0]\n",
      " [ 1  0 52  1  0]\n",
      " [ 0  0  0 69  0]\n",
      " [ 1  1  0  1 46]]\n",
      "[[61  0  4  0  2]\n",
      " [ 0 53  0  0  1]\n",
      " [ 2  1 51  0  0]\n",
      " [ 0  0  0 69  0]\n",
      " [ 0  2  2  0 45]]\n"
     ]
    }
   ],
   "source": [
    "for model_name in best_estimators:\n",
    "    model = best_estimators[model_name]['model']\n",
    "    y_hat = model.predict(X_test)\n",
    "    print(confusion_matrix(y_test, y_hat))"
   ]
  },
  {
   "cell_type": "markdown",
   "metadata": {
    "execution": {
     "iopub.execute_input": "2024-06-23T20:17:54.094470Z",
     "iopub.status.busy": "2024-06-23T20:17:54.093539Z",
     "iopub.status.idle": "2024-06-23T20:17:54.098243Z",
     "shell.execute_reply": "2024-06-23T20:17:54.097422Z",
     "shell.execute_reply.started": "2024-06-23T20:17:54.094426Z"
    }
   },
   "source": [
    "## Final Training"
   ]
  },
  {
   "cell_type": "markdown",
   "metadata": {
    "execution": {
     "iopub.execute_input": "2024-06-23T20:18:07.363512Z",
     "iopub.status.busy": "2024-06-23T20:18:07.363146Z",
     "iopub.status.idle": "2024-06-23T20:18:07.367610Z",
     "shell.execute_reply": "2024-06-23T20:18:07.366723Z",
     "shell.execute_reply.started": "2024-06-23T20:18:07.363483Z"
    }
   },
   "source": [
    "### Supervised model"
   ]
  },
  {
   "cell_type": "code",
   "execution_count": 33,
   "metadata": {
    "execution": {
     "iopub.execute_input": "2024-06-23T21:18:46.160008Z",
     "iopub.status.busy": "2024-06-23T21:18:46.159389Z",
     "iopub.status.idle": "2024-06-23T21:18:46.463064Z",
     "shell.execute_reply": "2024-06-23T21:18:46.462055Z",
     "shell.execute_reply.started": "2024-06-23T21:18:46.159971Z"
    }
   },
   "outputs": [
    {
     "name": "stdout",
     "output_type": "stream",
     "text": [
      "F1 score for train set:  1.0\n",
      "F1 score for test set:  0.9753970355349573\n"
     ]
    },
    {
     "data": {
      "text/plain": [
       "array([[65,  0,  1,  0,  1],\n",
       "       [ 0, 54,  0,  0,  0],\n",
       "       [ 1,  0, 52,  1,  0],\n",
       "       [ 0,  0,  0, 69,  0],\n",
       "       [ 1,  1,  0,  1, 46]])"
      ]
     },
     "execution_count": 33,
     "metadata": {},
     "output_type": "execute_result"
    }
   ],
   "source": [
    "model = LogisticRegression(**best_estimators['log_reg']['model_params'])\n",
    "model.fit(X_train, y_train)\n",
    "print(\"F1 score for train set: \", f1_score(y_train, model.predict(X_train), average='macro'))\n",
    "print(\"F1 score for test set: \", f1_score(y_test, model.predict(X_test), average='macro'))\n",
    "\n",
    "confusion_matrix(y_test, model.predict(X_test))"
   ]
  },
  {
   "cell_type": "markdown",
   "metadata": {},
   "source": [
    "### Unsupervised model"
   ]
  },
  {
   "cell_type": "code",
   "execution_count": 34,
   "metadata": {
    "execution": {
     "iopub.execute_input": "2024-06-23T21:18:46.465171Z",
     "iopub.status.busy": "2024-06-23T21:18:46.464576Z",
     "iopub.status.idle": "2024-06-23T21:18:46.471909Z",
     "shell.execute_reply": "2024-06-23T21:18:46.470700Z",
     "shell.execute_reply.started": "2024-06-23T21:18:46.465136Z"
    }
   },
   "outputs": [
    {
     "data": {
      "text/plain": [
       "{'alpha_W': 0.1,\n",
       " 'beta_loss': 'kullback-leibler',\n",
       " 'init': 'nndsvdar',\n",
       " 'solver': 'mu'}"
      ]
     },
     "execution_count": 34,
     "metadata": {},
     "output_type": "execute_result"
    }
   ],
   "source": [
    "best_estimators['custom_nmf']['model_params']"
   ]
  },
  {
   "cell_type": "code",
   "execution_count": 35,
   "metadata": {
    "execution": {
     "iopub.execute_input": "2024-06-23T21:18:46.475196Z",
     "iopub.status.busy": "2024-06-23T21:18:46.474123Z",
     "iopub.status.idle": "2024-06-23T21:18:51.947729Z",
     "shell.execute_reply": "2024-06-23T21:18:51.946322Z",
     "shell.execute_reply.started": "2024-06-23T21:18:46.475123Z"
    }
   },
   "outputs": [
    {
     "name": "stdout",
     "output_type": "stream",
     "text": [
      "F1 score for train set:  0.9461005274046913\n",
      "F1 score for test set:  0.9497703745126426\n"
     ]
    },
    {
     "data": {
      "text/plain": [
       "array([[61,  0,  4,  0,  2],\n",
       "       [ 0, 53,  0,  0,  1],\n",
       "       [ 2,  1, 51,  0,  0],\n",
       "       [ 0,  0,  0, 69,  0],\n",
       "       [ 0,  2,  2,  0, 45]])"
      ]
     },
     "execution_count": 35,
     "metadata": {},
     "output_type": "execute_result"
    }
   ],
   "source": [
    "model = GridLikeNMF(n_components=5, **best_estimators['custom_nmf']['model_params'])\n",
    "model.fit(X_train, y_train)\n",
    "print(\"F1 score for train set: \", f1_score(y_train, model.predict(X_train), average='macro'))\n",
    "print(\"F1 score for test set: \", f1_score(y_test, model.predict(X_test), average='macro'))\n",
    "confusion_matrix(y_test, model.predict(X_test))"
   ]
  },
  {
   "cell_type": "markdown",
   "metadata": {},
   "source": [
    "## Submission data"
   ]
  },
  {
   "cell_type": "code",
   "execution_count": 36,
   "metadata": {
    "execution": {
     "iopub.execute_input": "2024-06-23T21:18:51.954753Z",
     "iopub.status.busy": "2024-06-23T21:18:51.953948Z",
     "iopub.status.idle": "2024-06-23T21:18:52.243597Z",
     "shell.execute_reply": "2024-06-23T21:18:52.242638Z",
     "shell.execute_reply.started": "2024-06-23T21:18:51.954699Z"
    }
   },
   "outputs": [],
   "source": [
    "test_data = pd.read_csv(\"/kaggle/input/learn-ai-bbc/BBC News Test.csv\")\n",
    "text_lemmatized = [\" \".join([word.lower() for word in text.split() if word.lower() in keep_words]) for text in test_data.Text ]\n",
    "test_data['text_lematized'] = text_lemmatized\n",
    "ref = vectorizer.transform(text_lemmatized)"
   ]
  },
  {
   "cell_type": "code",
   "execution_count": 25,
   "metadata": {
    "execution": {
     "iopub.execute_input": "2024-06-23T21:13:36.794129Z",
     "iopub.status.busy": "2024-06-23T21:13:36.793820Z",
     "iopub.status.idle": "2024-06-23T21:13:36.890795Z",
     "shell.execute_reply": "2024-06-23T21:13:36.890077Z",
     "shell.execute_reply.started": "2024-06-23T21:13:36.794103Z"
    }
   },
   "outputs": [],
   "source": [
    "results = best_estimators['custom_nmf']['model'].predict(ref)"
   ]
  },
  {
   "cell_type": "code",
   "execution_count": 26,
   "metadata": {
    "execution": {
     "iopub.execute_input": "2024-06-23T21:13:36.892463Z",
     "iopub.status.busy": "2024-06-23T21:13:36.892019Z",
     "iopub.status.idle": "2024-06-23T21:13:36.899396Z",
     "shell.execute_reply": "2024-06-23T21:13:36.898618Z",
     "shell.execute_reply.started": "2024-06-23T21:13:36.892426Z"
    }
   },
   "outputs": [],
   "source": [
    "test_data = pd.read_csv(\"/kaggle/input/learn-ai-bbc/BBC News Sample Solution.csv\")"
   ]
  },
  {
   "cell_type": "code",
   "execution_count": 27,
   "metadata": {
    "execution": {
     "iopub.execute_input": "2024-06-23T21:13:36.900950Z",
     "iopub.status.busy": "2024-06-23T21:13:36.900673Z",
     "iopub.status.idle": "2024-06-23T21:13:36.908615Z",
     "shell.execute_reply": "2024-06-23T21:13:36.907679Z",
     "shell.execute_reply.started": "2024-06-23T21:13:36.900927Z"
    }
   },
   "outputs": [],
   "source": [
    "test_data['Category']  = results\n",
    "test_data.to_csv(\"submission.csv\", index=0)"
   ]
  },
  {
   "cell_type": "markdown",
   "metadata": {},
   "source": [
    "# Discussion and results"
   ]
  },
  {
   "cell_type": "markdown",
   "metadata": {},
   "source": [
    "I've got 0.95 results with the unsupervised learning algorithm:"
   ]
  },
  {
   "cell_type": "markdown",
   "metadata": {},
   "source": [
    "![alt text](artur-tanona-results.png \"Title\")\n"
   ]
  },
  {
   "cell_type": "markdown",
   "metadata": {
    "execution": {
     "iopub.execute_input": "2024-06-23T21:07:10.721639Z",
     "iopub.status.busy": "2024-06-23T21:07:10.720827Z",
     "iopub.status.idle": "2024-06-23T21:07:10.728575Z",
     "shell.execute_reply": "2024-06-23T21:07:10.727315Z",
     "shell.execute_reply.started": "2024-06-23T21:07:10.721605Z"
    }
   },
   "source": [
    "We observe that the supervised model (logistic regression) performs better than the unsupervised model (NMF), but the margin of improvement is less than anticipated. \n",
    "The dataset may be too small, resulting in overfitting in the logistic regression model and reducing its generalizability.\n",
    "In contrast, NMF, as a dimensionality reduction technique, might more effectively capture the latent structures within the data, leading to better-than-expected performance despite being an unsupervised model."
   ]
  },
  {
   "cell_type": "markdown",
   "metadata": {},
   "source": [
    "# Reference"
   ]
  },
  {
   "cell_type": "markdown",
   "metadata": {},
   "source": [
    "* https://www.geeksforgeeks.org/understanding-tf-idf-term-frequency-inverse-document-frequency/\n",
    "* https://scikit-learn.org/stable/modules/generated/sklearn.feature_extraction.text.TfidfVectorizer.html\n",
    "* https://scikit-learn.org/stable/modules/generated/sklearn.feature_extraction.text.CountVectorizer.html\n",
    "* https://machinelearningmastery.com/logistic-regression-for-machine-learning/ \n",
    "* https://machinelearningmastery.com/prepare-text-data-machine-learning-scikit-learn/"
   ]
  }
 ],
 "metadata": {
  "kaggle": {
   "accelerator": "nvidiaTeslaT4",
   "dataSources": [
    {
     "databundleVersionId": 324297,
     "sourceId": 13351,
     "sourceType": "competition"
    },
    {
     "datasetId": 5263578,
     "sourceId": 8760725,
     "sourceType": "datasetVersion"
    }
   ],
   "dockerImageVersionId": 30732,
   "isGpuEnabled": true,
   "isInternetEnabled": true,
   "language": "python",
   "sourceType": "notebook"
  },
  "kernelspec": {
   "display_name": "Python 3 (ipykernel)",
   "language": "python",
   "name": "python3"
  },
  "language_info": {
   "codemirror_mode": {
    "name": "ipython",
    "version": 3
   },
   "file_extension": ".py",
   "mimetype": "text/x-python",
   "name": "python",
   "nbconvert_exporter": "python",
   "pygments_lexer": "ipython3",
   "version": "3.10.9"
  }
 },
 "nbformat": 4,
 "nbformat_minor": 4
}
